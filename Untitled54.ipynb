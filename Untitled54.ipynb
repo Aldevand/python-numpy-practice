{
  "nbformat": 4,
  "nbformat_minor": 0,
  "metadata": {
    "colab": {
      "provenance": [],
      "authorship_tag": "ABX9TyO5/GMFQMR2bXzKzBqAClzn",
      "include_colab_link": true
    },
    "kernelspec": {
      "name": "python3",
      "display_name": "Python 3"
    },
    "language_info": {
      "name": "python"
    }
  },
  "cells": [
    {
      "cell_type": "markdown",
      "metadata": {
        "id": "view-in-github",
        "colab_type": "text"
      },
      "source": [
        "<a href=\"https://colab.research.google.com/github/Aldevand/python-numpy-practice/blob/main/Untitled54.ipynb\" target=\"_parent\"><img src=\"https://colab.research.google.com/assets/colab-badge.svg\" alt=\"Open In Colab\"/></a>"
      ]
    },
    {
      "cell_type": "markdown",
      "source": [
        "Built Function"
      ],
      "metadata": {
        "id": "eJ5SyaCXgfCf"
      }
    },
    {
      "cell_type": "code",
      "source": [
        "import numpy as np\n",
        "\n",
        "def calculate(list_input):\n",
        "    if len(list_input) != 9:\n",
        "        raise ValueError(\"List must contain nine numbers.\")\n",
        "\n",
        "    arr = np.array(list_input).reshape(3, 3)\n",
        "\n",
        "    calculations = {\n",
        "        'mean': [\n",
        "            np.mean(arr, axis=0).tolist(),\n",
        "            np.mean(arr, axis=1).tolist(),\n",
        "            np.mean(arr).item()\n",
        "        ],\n",
        "        'variance': [\n",
        "            np.var(arr, axis=0).tolist(),\n",
        "            np.var(arr, axis=1).tolist(),\n",
        "            np.var(arr).item()\n",
        "        ],\n",
        "        'standard deviation': [\n",
        "            np.std(arr, axis=0).tolist(),\n",
        "            np.std(arr, axis=1).tolist(),\n",
        "            np.std(arr).item()\n",
        "        ],\n",
        "        'max': [\n",
        "            np.max(arr, axis=0).tolist(),\n",
        "            np.max(arr, axis=1).tolist(),\n",
        "            np.max(arr).item()\n",
        "        ],\n",
        "        'min': [\n",
        "            np.min(arr, axis=0).tolist(),\n",
        "            np.min(arr, axis=1).tolist(),\n",
        "            np.min(arr).item()\n",
        "        ],\n",
        "        'sum': [\n",
        "            np.sum(arr, axis=0).tolist(),\n",
        "            np.sum(arr, axis=1).tolist(),\n",
        "            np.sum(arr).item()\n",
        "        ]\n",
        "    }\n",
        "\n",
        "    return calculations\n"
      ],
      "metadata": {
        "id": "phXqdJ44f4ME"
      },
      "execution_count": 28,
      "outputs": []
    },
    {
      "cell_type": "markdown",
      "source": [
        "Testing Function"
      ],
      "metadata": {
        "id": "Hz-e4-f8f-Dd"
      }
    },
    {
      "cell_type": "code",
      "source": [
        "result = calculate([0,1,2,3,4,5,6,7,8])\n",
        "print(result)"
      ],
      "metadata": {
        "colab": {
          "base_uri": "https://localhost:8080/"
        },
        "id": "B7EZmkvYgA5V",
        "outputId": "ce6b76cd-0be4-49ec-a798-ee23ea024e15"
      },
      "execution_count": 29,
      "outputs": [
        {
          "output_type": "stream",
          "name": "stdout",
          "text": [
            "{'mean': [[3.0, 4.0, 5.0], [1.0, 4.0, 7.0], 4.0], 'variance': [[6.0, 6.0, 6.0], [0.6666666666666666, 0.6666666666666666, 0.6666666666666666], 6.666666666666667], 'standard deviation': [[2.449489742783178, 2.449489742783178, 2.449489742783178], [0.816496580927726, 0.816496580927726, 0.816496580927726], 2.581988897471611], 'max': [[6, 7, 8], [2, 5, 8], 8], 'min': [[0, 1, 2], [0, 3, 6], 0], 'sum': [[9, 12, 15], [3, 12, 21], 36]}\n"
          ]
        }
      ]
    },
    {
      "cell_type": "markdown",
      "source": [
        "Error Case"
      ],
      "metadata": {
        "id": "QME4QAmJgDQH"
      }
    },
    {
      "cell_type": "code",
      "source": [
        "try:\n",
        "    calculate([1,2,3])  # kurang dari 9 elemen\n",
        "except ValueError as e:\n",
        "    print(\"Error:\", e)"
      ],
      "metadata": {
        "colab": {
          "base_uri": "https://localhost:8080/"
        },
        "id": "S7YBriKwgGaI",
        "outputId": "917ef08d-583e-41bd-c114-2f1b3b0fe4b1"
      },
      "execution_count": 30,
      "outputs": [
        {
          "output_type": "stream",
          "name": "stdout",
          "text": [
            "Error: List must contain nine numbers.\n"
          ]
        }
      ]
    }
  ]
}