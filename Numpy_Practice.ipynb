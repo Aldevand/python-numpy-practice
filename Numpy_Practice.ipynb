{
  "nbformat": 4,
  "nbformat_minor": 0,
  "metadata": {
    "colab": {
      "provenance": [],
      "authorship_tag": "ABX9TyMUTQK2DARMYmiFDmY+D3J/",
      "include_colab_link": true
    },
    "kernelspec": {
      "name": "python3",
      "display_name": "Python 3"
    },
    "language_info": {
      "name": "python"
    }
  },
  "cells": [
    {
      "cell_type": "markdown",
      "metadata": {
        "id": "view-in-github",
        "colab_type": "text"
      },
      "source": [
        "<a href=\"https://colab.research.google.com/github/Aldevand/python-numpy-practice/blob/main/Numpy_Practice.ipynb\" target=\"_parent\"><img src=\"https://colab.research.google.com/assets/colab-badge.svg\" alt=\"Open In Colab\"/></a>"
      ]
    },
    {
      "cell_type": "markdown",
      "source": [
        "🇮🇩 Bahasa Indonesia\n",
        "# 🧮 Mean-Variance-Standard Deviation Calculator  \n",
        "\n",
        "## 📌 Deskripsi Tugas  \n",
        "Buat sebuah fungsi `calculate()` dalam file `mean_var_std.py` yang menggunakan **NumPy** untuk menghitung:  \n",
        "- mean  \n",
        "- variance  \n",
        "- standard deviation  \n",
        "- max  \n",
        "- min  \n",
        "- sum  \n",
        "\n",
        "Perhitungan dilakukan terhadap **baris, kolom, dan keseluruhan elemen** dari sebuah matriks 3x3.  \n",
        "\n",
        "## 📥 Input  \n",
        "- Fungsi menerima list berisi **9 angka**.  \n",
        "- List tersebut diubah menjadi matriks 3x3 menggunakan NumPy.  \n",
        "\n",
        "## 📤 Output  \n",
        "- Dictionary dengan format:  \n",
        "\n",
        "```python\n",
        "{\n",
        "  'mean': [[axis1], [axis2], flattened],\n",
        "  'variance': [[axis1], [axis2], flattened],\n",
        "  'standard deviation': [[axis1], [axis2], flattened],\n",
        "  'max': [[axis1], [axis2], flattened],\n",
        "  'min': [[axis1], [axis2], flattened],\n",
        "  'sum': [[axis1], [axis2], flattened]\n",
        "}\n",
        "\n",
        "\n",
        "Jika input kurang dari 9 angka, fungsi harus mengembalikan error:\n",
        "\n",
        "ValueError: List must contain nine numbers.\n",
        "\n",
        "📊 Contoh\n",
        "\n",
        "Input:\n",
        "\n",
        "calculate([0,1,2,3,4,5,6,7,8])\n",
        "\n",
        "\n",
        "Output:\n",
        "\n",
        "{\n",
        "  'mean': [[3.0, 4.0, 5.0], [1.0, 4.0, 7.0], 4.0],\n",
        "  'variance': [[6.0, 6.0, 6.0],\n",
        "               [0.666..., 0.666..., 0.666...], 6.666...],\n",
        "  'standard deviation': [[2.449..., 2.449..., 2.449...],\n",
        "                         [0.816..., 0.816..., 0.816...], 2.581...],\n",
        "  'max': [[6, 7, 8], [2, 5, 8], 8],\n",
        "  'min': [[0, 1, 2], [0, 3, 6], 0],\n",
        "  'sum': [[9, 12, 15], [3, 12, 21], 36]\n",
        "}\n",
        "\n",
        "\n",
        "---\n",
        "\n",
        "### 🇬🇧 English Version  \n",
        "\n",
        "```markdown\n",
        "# 🧮 Mean-Variance-Standard Deviation Calculator  \n",
        "\n",
        "## 📌 Task Description  \n",
        "Create a function `calculate()` in `mean_var_std.py` that uses **NumPy** to compute:  \n",
        "- mean  \n",
        "- variance  \n",
        "- standard deviation  \n",
        "- max  \n",
        "- min  \n",
        "- sum  \n",
        "\n",
        "The calculation must be applied to the **rows, columns, and the entire elements** of a 3x3 matrix.  \n",
        "\n",
        "## 📥 Input  \n",
        "- The function receives a list containing **9 numbers**.  \n",
        "- The list will be reshaped into a 3x3 NumPy matrix.  \n",
        "\n",
        "## 📤 Output  \n",
        "- Dictionary with the following format:  \n",
        "\n",
        "```python\n",
        "{\n",
        "  'mean': [[axis1], [axis2], flattened],\n",
        "  'variance': [[axis1], [axis2], flattened],\n",
        "  'standard deviation': [[axis1], [axis2], flattened],\n",
        "  'max': [[axis1], [axis2], flattened],\n",
        "  'min': [[axis1], [axis2], flattened],\n",
        "  'sum': [[axis1], [axis2], flattened]\n",
        "}\n",
        "\n",
        "\n",
        "If the input contains fewer than 9 elements, raise an error:\n",
        "\n",
        "ValueError: List must contain nine numbers.\n",
        "\n",
        "📊 Example\n",
        "\n",
        "Input:\n",
        "\n",
        "calculate([0,1,2,3,4,5,6,7,8])\n",
        "\n",
        "\n",
        "Output:\n",
        "\n",
        "{\n",
        "  'mean': [[3.0, 4.0, 5.0], [1.0, 4.0, 7.0], 4.0],\n",
        "  'variance': [[6.0, 6.0, 6.0],\n",
        "               [0.666..., 0.666..., 0.666...], 6.666...],\n",
        "  'standard deviation': [[2.449..., 2.449..., 2.449...],\n",
        "                         [0.816..., 0.816..., 0.816...], 2.581...],\n",
        "  'max': [[6, 7, 8], [2, 5, 8], 8],\n",
        "  'min': [[0, 1, 2], [0, 3, 6], 0],\n",
        "  'sum': [[9, 12, 15], [3, 12, 21], 36]\n",
        "}"
      ],
      "metadata": {
        "id": "Zsq-Dscri-hb"
      }
    },
    {
      "cell_type": "markdown",
      "source": [
        "Built Function"
      ],
      "metadata": {
        "id": "eJ5SyaCXgfCf"
      }
    },
    {
      "cell_type": "code",
      "source": [
        "import numpy as np\n",
        "\n",
        "def calculate(list_input):\n",
        "    if len(list_input) != 9:\n",
        "        raise ValueError(\"List must contain nine numbers.\")\n",
        "\n",
        "    arr = np.array(list_input).reshape(3, 3)\n",
        "\n",
        "    calculations = {\n",
        "        'mean': [\n",
        "            np.mean(arr, axis=0).tolist(),\n",
        "            np.mean(arr, axis=1).tolist(),\n",
        "            np.mean(arr).item()\n",
        "        ],\n",
        "        'variance': [\n",
        "            np.var(arr, axis=0).tolist(),\n",
        "            np.var(arr, axis=1).tolist(),\n",
        "            np.var(arr).item()\n",
        "        ],\n",
        "        'standard deviation': [\n",
        "            np.std(arr, axis=0).tolist(),\n",
        "            np.std(arr, axis=1).tolist(),\n",
        "            np.std(arr).item()\n",
        "        ],\n",
        "        'max': [\n",
        "            np.max(arr, axis=0).tolist(),\n",
        "            np.max(arr, axis=1).tolist(),\n",
        "            np.max(arr).item()\n",
        "        ],\n",
        "        'min': [\n",
        "            np.min(arr, axis=0).tolist(),\n",
        "            np.min(arr, axis=1).tolist(),\n",
        "            np.min(arr).item()\n",
        "        ],\n",
        "        'sum': [\n",
        "            np.sum(arr, axis=0).tolist(),\n",
        "            np.sum(arr, axis=1).tolist(),\n",
        "            np.sum(arr).item()\n",
        "        ]\n",
        "    }\n",
        "\n",
        "    return calculations\n"
      ],
      "metadata": {
        "id": "phXqdJ44f4ME"
      },
      "execution_count": 28,
      "outputs": []
    },
    {
      "cell_type": "markdown",
      "source": [
        "Testing Function"
      ],
      "metadata": {
        "id": "Hz-e4-f8f-Dd"
      }
    },
    {
      "cell_type": "code",
      "source": [
        "result = calculate([0,1,2,3,4,5,6,7,8])\n",
        "print(result)"
      ],
      "metadata": {
        "colab": {
          "base_uri": "https://localhost:8080/"
        },
        "id": "B7EZmkvYgA5V",
        "outputId": "ce6b76cd-0be4-49ec-a798-ee23ea024e15"
      },
      "execution_count": 29,
      "outputs": [
        {
          "output_type": "stream",
          "name": "stdout",
          "text": [
            "{'mean': [[3.0, 4.0, 5.0], [1.0, 4.0, 7.0], 4.0], 'variance': [[6.0, 6.0, 6.0], [0.6666666666666666, 0.6666666666666666, 0.6666666666666666], 6.666666666666667], 'standard deviation': [[2.449489742783178, 2.449489742783178, 2.449489742783178], [0.816496580927726, 0.816496580927726, 0.816496580927726], 2.581988897471611], 'max': [[6, 7, 8], [2, 5, 8], 8], 'min': [[0, 1, 2], [0, 3, 6], 0], 'sum': [[9, 12, 15], [3, 12, 21], 36]}\n"
          ]
        }
      ]
    },
    {
      "cell_type": "markdown",
      "source": [
        "Error Case"
      ],
      "metadata": {
        "id": "QME4QAmJgDQH"
      }
    },
    {
      "cell_type": "code",
      "source": [
        "try:\n",
        "    calculate([1,2,3])  # kurang dari 9 elemen\n",
        "except ValueError as e:\n",
        "    print(\"Error:\", e)"
      ],
      "metadata": {
        "colab": {
          "base_uri": "https://localhost:8080/"
        },
        "id": "S7YBriKwgGaI",
        "outputId": "917ef08d-583e-41bd-c114-2f1b3b0fe4b1"
      },
      "execution_count": 30,
      "outputs": [
        {
          "output_type": "stream",
          "name": "stdout",
          "text": [
            "Error: List must contain nine numbers.\n"
          ]
        }
      ]
    }
  ]
}